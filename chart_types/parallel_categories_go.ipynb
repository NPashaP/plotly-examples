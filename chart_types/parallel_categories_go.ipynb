{
 "cells": [
  {
   "cell_type": "markdown",
   "metadata": {},
   "source": [
    "# Parallel Categories With Plotly Graph Objects"
   ]
  },
  {
   "cell_type": "code",
   "execution_count": 2,
   "metadata": {},
   "outputs": [
    {
     "data": {
      "image/svg+xml": "<svg class=\"main-svg\" xmlns=\"http://www.w3.org/2000/svg\" xmlns:xlink=\"http://www.w3.org/1999/xlink\" width=\"700\" height=\"500\" style=\"\" viewBox=\"0 0 700 500\"><rect x=\"0\" y=\"0\" width=\"700\" height=\"500\" style=\"fill: rgb(255, 255, 255); fill-opacity: 1;\"/><defs id=\"defs-d35f52\"><g class=\"clips\"/><g class=\"gradients\"/><g class=\"patterns\"/></defs><g class=\"bglayer\"/><g class=\"layer-below\"><g class=\"imagelayer\"/><g class=\"shapelayer\"/></g><g class=\"cartesianlayer\"/><g class=\"polarlayer\"/><g class=\"smithlayer\"/><g class=\"ternarylayer\"/><g class=\"geolayer\"/><g class=\"funnelarealayer\"/><g class=\"pielayer\"/><g class=\"iciclelayer\"/><g class=\"treemaplayer\"/><g class=\"sunburstlayer\"/><g class=\"glimages\"/><g class=\"parcatslayer\" style=\"pointer-events: all;\"><g class=\"trace parcats\" transform=\"translate(80,100)\"><g class=\"paths\"><path class=\"path\" stroke-opacity=\"1\" fill=\"#636efa\" fill-opacity=\"0.6\" stroke=\"lightgray\" stroke-width=\"0.2\" d=\"M 40,0l16,0 C56,0 262,4 262,4l16,0 C278,4 484,4 484,4l16,0 l0,114 l -16,0 C484,118 278,118 278,118l-16,0 C262,118 56,114 56,114l-16,0 Z\"/><path class=\"path\" stroke-opacity=\"1\" fill=\"#636efa\" fill-opacity=\"0.6\" stroke=\"lightgray\" stroke-width=\"0.2\" d=\"M 40,122l16,0 C56,122 262,118 262,118l16,0 C278,118 484,118 484,118l16,0 l0,38 l -16,0 C484,156 278,156 278,156l-16,0 C262,156 56,160 56,160l-16,0 Z\"/><path class=\"path\" stroke-opacity=\"1\" fill=\"#636efa\" fill-opacity=\"0.6\" stroke=\"lightgray\" stroke-width=\"0.2\" d=\"M 40,160l16,0 C56,160 262,156 262,156l16,0 C278,156 484,164 484,164l16,0 l0,38 l -16,0 C484,202 278,194 278,194l-16,0 C262,194 56,198 56,198l-16,0 Z\"/><path class=\"path\" stroke-opacity=\"1\" fill=\"#636efa\" fill-opacity=\"0.6\" stroke=\"lightgray\" stroke-width=\"0.2\" d=\"M 40,198l16,0 C56,198 262,202 262,202l16,0 C278,202 484,202 484,202l16,0 l0,76 l -16,0 C484,278 278,278 278,278l-16,0 C262,278 56,274 56,274l-16,0 Z\"/><path class=\"path\" stroke-opacity=\"1\" fill=\"#636efa\" fill-opacity=\"0.6\" stroke=\"lightgray\" stroke-width=\"0.2\" d=\"M 40,282l16,0 C56,282 262,278 262,278l16,0 C278,278 484,278 484,278l16,0 l0,38 l -16,0 C484,316 278,316 278,316l-16,0 C262,316 56,320 56,320l-16,0 Z\"/></g><g class=\"dimensions\"><g class=\"dimension\" transform=\"translate(40,0)\"><g class=\"category\" transform=\"\"><rect class=\"catrect\" pointer-events=\"none\" fill=\"none\" width=\"16\" height=\"114\" stroke=\"black\" stroke-width=\"1\" stroke-opacity=\"1\"/><rect class=\"bandrect\" stroke-opacity=\"1\" fill=\"#636efa\" fill-opacity=\"1\" width=\"16\" height=\"114\" y=\"0\" cursor=\"ns-resize\" stroke=\"black\" stroke-width=\"0.2\"/><text class=\"catlabel\" pointer-events=\"none\" text-anchor=\"end\" alignment-baseline=\"middle\" x=\"-5\" y=\"57\" style=\"text-shadow: white 1px 1px 1px, white -1px -1px 1px, white 1px -1px 1px, white -1px 1px 1px; fill: rgb(42, 63, 95); font-family: 'Open Sans', verdana, arial, sans-serif; font-size: 10px; fill-opacity: 1; white-space: pre;\">Black</text><text class=\"dimlabel\" text-anchor=\"middle\" alignment-baseline=\"baseline\" cursor=\"ew-resize\" x=\"8\" y=\"-5\" style=\"font-family: 'Open Sans', verdana, arial, sans-serif; font-size: 12px; fill: rgb(42, 63, 95); fill-opacity: 1;\">Hair</text></g><g class=\"category\" transform=\"translate(0,122)\"><rect class=\"catrect\" pointer-events=\"none\" fill=\"none\" width=\"16\" height=\"152\" stroke=\"black\" stroke-width=\"1\" stroke-opacity=\"1\"/><rect class=\"bandrect\" stroke-opacity=\"1\" fill=\"#636efa\" fill-opacity=\"1\" width=\"16\" height=\"152\" y=\"0\" cursor=\"ns-resize\" stroke=\"black\" stroke-width=\"0.2\"/><text class=\"catlabel\" pointer-events=\"none\" text-anchor=\"end\" alignment-baseline=\"middle\" x=\"-5\" y=\"76\" style=\"text-shadow: white 1px 1px 1px, white -1px -1px 1px, white 1px -1px 1px, white -1px 1px 1px; fill: rgb(42, 63, 95); font-family: 'Open Sans', verdana, arial, sans-serif; font-size: 10px; fill-opacity: 1; white-space: pre;\">Brown</text><text class=\"dimlabel\" text-anchor=\"middle\" alignment-baseline=\"baseline\" cursor=\"ew-resize\" x=\"8\" y=\"-5\" style=\"font-family: 'Open Sans', verdana, arial, sans-serif; font-size: 12px; fill: rgb(42, 63, 95); fill-opacity: 1;\"/></g><g class=\"category\" transform=\"translate(0,282)\"><rect class=\"catrect\" pointer-events=\"none\" fill=\"none\" width=\"16\" height=\"38\" stroke=\"black\" stroke-width=\"1\" stroke-opacity=\"1\"/><rect class=\"bandrect\" stroke-opacity=\"1\" fill=\"#636efa\" fill-opacity=\"1\" width=\"16\" height=\"38\" y=\"0\" cursor=\"ns-resize\" stroke=\"black\" stroke-width=\"0.2\"/><text class=\"catlabel\" pointer-events=\"none\" text-anchor=\"end\" alignment-baseline=\"middle\" x=\"-5\" y=\"19\" style=\"text-shadow: white 1px 1px 1px, white -1px -1px 1px, white 1px -1px 1px, white -1px 1px 1px; fill: rgb(42, 63, 95); font-family: 'Open Sans', verdana, arial, sans-serif; font-size: 10px; fill-opacity: 1; white-space: pre;\">Red</text><text class=\"dimlabel\" text-anchor=\"middle\" alignment-baseline=\"baseline\" cursor=\"ew-resize\" x=\"8\" y=\"-5\" style=\"font-family: 'Open Sans', verdana, arial, sans-serif; font-size: 12px; fill: rgb(42, 63, 95); fill-opacity: 1;\"/></g></g><g class=\"dimension\" transform=\"translate(262,0)\"><g class=\"category\" transform=\"translate(0,4)\"><rect class=\"catrect\" pointer-events=\"none\" fill=\"none\" width=\"16\" height=\"190\" stroke=\"black\" stroke-width=\"1\" stroke-opacity=\"1\"/><rect class=\"bandrect\" stroke-opacity=\"1\" fill=\"#636efa\" fill-opacity=\"1\" width=\"16\" height=\"190\" y=\"0\" cursor=\"ns-resize\" stroke=\"black\" stroke-width=\"0.2\"/><text class=\"catlabel\" pointer-events=\"none\" text-anchor=\"end\" alignment-baseline=\"middle\" x=\"-5\" y=\"95\" style=\"text-shadow: white 1px 1px 1px, white -1px -1px 1px, white 1px -1px 1px, white -1px 1px 1px; fill: rgb(42, 63, 95); font-family: 'Open Sans', verdana, arial, sans-serif; font-size: 10px; fill-opacity: 1; white-space: pre;\">Brown</text><text class=\"dimlabel\" text-anchor=\"middle\" alignment-baseline=\"baseline\" cursor=\"ew-resize\" x=\"8\" y=\"-5\" style=\"font-family: 'Open Sans', verdana, arial, sans-serif; font-size: 12px; fill: rgb(42, 63, 95); fill-opacity: 1;\">Eye</text></g><g class=\"category\" transform=\"translate(0,202)\"><rect class=\"catrect\" pointer-events=\"none\" fill=\"none\" width=\"16\" height=\"114\" stroke=\"black\" stroke-width=\"1\" stroke-opacity=\"1\"/><rect class=\"bandrect\" stroke-opacity=\"1\" fill=\"#636efa\" fill-opacity=\"1\" width=\"16\" height=\"114\" y=\"0\" cursor=\"ns-resize\" stroke=\"black\" stroke-width=\"0.2\"/><text class=\"catlabel\" pointer-events=\"none\" text-anchor=\"end\" alignment-baseline=\"middle\" x=\"-5\" y=\"57\" style=\"text-shadow: white 1px 1px 1px, white -1px -1px 1px, white 1px -1px 1px, white -1px 1px 1px; fill: rgb(42, 63, 95); font-family: 'Open Sans', verdana, arial, sans-serif; font-size: 10px; fill-opacity: 1; white-space: pre;\">Blue</text><text class=\"dimlabel\" text-anchor=\"middle\" alignment-baseline=\"baseline\" cursor=\"ew-resize\" x=\"8\" y=\"-5\" style=\"font-family: 'Open Sans', verdana, arial, sans-serif; font-size: 12px; fill: rgb(42, 63, 95); fill-opacity: 1;\"/></g></g><g class=\"dimension\" transform=\"translate(484,0)\"><g class=\"category\" transform=\"translate(0,4)\"><rect class=\"catrect\" pointer-events=\"none\" fill=\"none\" width=\"16\" height=\"152\" stroke=\"black\" stroke-width=\"1\" stroke-opacity=\"1\"/><rect class=\"bandrect\" stroke-opacity=\"1\" fill=\"#636efa\" fill-opacity=\"1\" width=\"16\" height=\"152\" y=\"0\" cursor=\"ns-resize\" stroke=\"black\" stroke-width=\"0.2\"/><text class=\"catlabel\" pointer-events=\"none\" text-anchor=\"start\" alignment-baseline=\"middle\" x=\"21\" y=\"76\" style=\"text-shadow: white 1px 1px 1px, white -1px -1px 1px, white 1px -1px 1px, white -1px 1px 1px; fill: rgb(42, 63, 95); font-family: 'Open Sans', verdana, arial, sans-serif; font-size: 10px; fill-opacity: 1; white-space: pre;\">Female</text><text class=\"dimlabel\" text-anchor=\"middle\" alignment-baseline=\"baseline\" cursor=\"ew-resize\" x=\"8\" y=\"-5\" style=\"font-family: 'Open Sans', verdana, arial, sans-serif; font-size: 12px; fill: rgb(42, 63, 95); fill-opacity: 1;\">Sex</text></g><g class=\"category\" transform=\"translate(0,164)\"><rect class=\"catrect\" pointer-events=\"none\" fill=\"none\" width=\"16\" height=\"152\" stroke=\"black\" stroke-width=\"1\" stroke-opacity=\"1\"/><rect class=\"bandrect\" stroke-opacity=\"1\" fill=\"#636efa\" fill-opacity=\"1\" width=\"16\" height=\"152\" y=\"0\" cursor=\"ns-resize\" stroke=\"black\" stroke-width=\"0.2\"/><text class=\"catlabel\" pointer-events=\"none\" text-anchor=\"start\" alignment-baseline=\"middle\" x=\"21\" y=\"76\" style=\"text-shadow: white 1px 1px 1px, white -1px -1px 1px, white 1px -1px 1px, white -1px 1px 1px; fill: rgb(42, 63, 95); font-family: 'Open Sans', verdana, arial, sans-serif; font-size: 10px; fill-opacity: 1; white-space: pre;\">Male</text><text class=\"dimlabel\" text-anchor=\"middle\" alignment-baseline=\"baseline\" cursor=\"ew-resize\" x=\"8\" y=\"-5\" style=\"font-family: 'Open Sans', verdana, arial, sans-serif; font-size: 12px; fill: rgb(42, 63, 95); fill-opacity: 1;\"/></g></g></g></g></g><defs id=\"topdefs-d35f52\"><g class=\"clips\"/></defs><g class=\"layer-above\"><g class=\"imagelayer\"/><g class=\"shapelayer\"/></g><g class=\"infolayer\"><g class=\"g-gtitle\"/></g></svg>"
     },
     "metadata": {},
     "output_type": "display_data"
    }
   ],
   "source": [
    "import plotly.graph_objects as go\n",
    "\n",
    "go.Figure(go.Parcats(\n",
    "    dimensions=[\n",
    "        {'label': 'Hair', # Column Name\n",
    "         'values': ['Black', 'Black', 'Black', 'Brown', 'Brown', 'Brown', 'Red', 'Brown']}, # Rows\n",
    "        {'label': 'Eye',\n",
    "         'values': ['Brown', 'Brown', 'Brown', 'Brown', 'Brown', 'Blue', 'Blue', 'Blue']},\n",
    "        {'label': 'Sex',\n",
    "         'values': ['Female', 'Female', 'Female', 'Male', 'Female', 'Male', 'Male', 'Male']}]\n",
    "))"
   ]
  },
  {
   "cell_type": "markdown",
   "metadata": {},
   "source": [
    "## Counts"
   ]
  },
  {
   "cell_type": "code",
   "execution_count": 3,
   "metadata": {},
   "outputs": [
    {
     "data": {
      "image/svg+xml": "<svg class=\"main-svg\" xmlns=\"http://www.w3.org/2000/svg\" xmlns:xlink=\"http://www.w3.org/1999/xlink\" width=\"700\" height=\"500\" style=\"\" viewBox=\"0 0 700 500\"><rect x=\"0\" y=\"0\" width=\"700\" height=\"500\" style=\"fill: rgb(255, 255, 255); fill-opacity: 1;\"/><defs id=\"defs-f2c3b0\"><g class=\"clips\"/><g class=\"gradients\"/><g class=\"patterns\"/></defs><g class=\"bglayer\"/><g class=\"layer-below\"><g class=\"imagelayer\"/><g class=\"shapelayer\"/></g><g class=\"cartesianlayer\"/><g class=\"polarlayer\"/><g class=\"smithlayer\"/><g class=\"ternarylayer\"/><g class=\"geolayer\"/><g class=\"funnelarealayer\"/><g class=\"pielayer\"/><g class=\"iciclelayer\"/><g class=\"treemaplayer\"/><g class=\"sunburstlayer\"/><g class=\"glimages\"/><g class=\"parcatslayer\" style=\"pointer-events: all;\"><g class=\"trace parcats\" transform=\"translate(80,100)\"><g class=\"paths\"><path class=\"path\" stroke-opacity=\"1\" fill=\"#636efa\" fill-opacity=\"0.6\" stroke=\"lightgray\" stroke-width=\"0.2\" d=\"M 40,0l16,0 C56,0 262,4 262,4l16,0 C278,4 484,4 484,4l16,0 l0,21.209302325581394 l -16,0 C484,25.209302325581394 278,25.209302325581394 278,25.209302325581394l-16,0 C262,25.209302325581394 56,21.209302325581394 56,21.209302325581394l-16,0 Z\"/><path class=\"path\" stroke-opacity=\"1\" fill=\"#636efa\" fill-opacity=\"0.6\" stroke=\"lightgray\" stroke-width=\"0.2\" d=\"M 40,29.209302325581394l16,0 C56,29.209302325581394 262,25.209302325581394 262,25.209302325581394l16,0 C278,25.209302325581394 484,25.209302325581394 484,25.209302325581394l16,0 l0,141.3953488372093 l -16,0 C484,166.6046511627907 278,166.6046511627907 278,166.6046511627907l-16,0 C262,166.6046511627907 56,170.6046511627907 56,170.6046511627907l-16,0 Z\"/><path class=\"path\" stroke-opacity=\"1\" fill=\"#636efa\" fill-opacity=\"0.6\" stroke=\"lightgray\" stroke-width=\"0.2\" d=\"M 40,170.6046511627907l16,0 C56,170.6046511627907 262,166.6046511627907 262,166.6046511627907l16,0 C278,166.6046511627907 484,174.60465116279067 484,174.60465116279067l16,0 l0,35.348837209302324 l -16,0 C484,209.953488372093 278,201.95348837209303 278,201.95348837209303l-16,0 C262,201.95348837209303 56,205.95348837209303 56,205.95348837209303l-16,0 Z\"/><path class=\"path\" stroke-opacity=\"1\" fill=\"#636efa\" fill-opacity=\"0.6\" stroke=\"lightgray\" stroke-width=\"0.2\" d=\"M 40,205.95348837209303l16,0 C56,205.95348837209303 262,209.95348837209303 262,209.95348837209303l16,0 C278,209.95348837209303 484,209.953488372093 484,209.953488372093l16,0 l0,81.30232558139534 l -16,0 C484,291.2558139534883 278,291.25581395348837 278,291.25581395348837l-16,0 C262,291.25581395348837 56,287.25581395348837 56,287.25581395348837l-16,0 Z\"/><path class=\"path\" stroke-opacity=\"1\" fill=\"#636efa\" fill-opacity=\"0.6\" stroke=\"lightgray\" stroke-width=\"0.2\" d=\"M 40,295.25581395348837l16,0 C56,295.25581395348837 262,291.25581395348837 262,291.25581395348837l16,0 C278,291.25581395348837 484,291.2558139534883 484,291.2558139534883l16,0 l0,24.74418604651163 l -16,0 C484,315.99999999999994 278,316 278,316l-16,0 C262,316 56,320 56,320l-16,0 Z\"/></g><g class=\"dimensions\"><g class=\"dimension\" transform=\"translate(40,0)\"><g class=\"category\" transform=\"\"><rect class=\"catrect\" pointer-events=\"none\" fill=\"none\" width=\"16\" height=\"21.209302325581394\" stroke=\"black\" stroke-width=\"1\" stroke-opacity=\"1\"/><rect class=\"bandrect\" stroke-opacity=\"1\" fill=\"#636efa\" fill-opacity=\"1\" width=\"16\" height=\"21.209302325581394\" y=\"0\" cursor=\"ns-resize\" stroke=\"black\" stroke-width=\"0.2\"/><text class=\"catlabel\" pointer-events=\"none\" text-anchor=\"end\" alignment-baseline=\"middle\" x=\"-5\" y=\"10.604651162790697\" style=\"text-shadow: white 1px 1px 1px, white -1px -1px 1px, white 1px -1px 1px, white -1px 1px 1px; fill: rgb(42, 63, 95); font-family: 'Open Sans', verdana, arial, sans-serif; font-size: 10px; fill-opacity: 1; white-space: pre;\">Black</text><text class=\"dimlabel\" text-anchor=\"middle\" alignment-baseline=\"baseline\" cursor=\"ew-resize\" x=\"8\" y=\"-5\" style=\"font-family: 'Open Sans', verdana, arial, sans-serif; font-size: 12px; fill: rgb(42, 63, 95); fill-opacity: 1;\">Hair</text></g><g class=\"category\" transform=\"translate(0,29.209302325581394)\"><rect class=\"catrect\" pointer-events=\"none\" fill=\"none\" width=\"16\" height=\"258.04651162790697\" stroke=\"black\" stroke-width=\"1\" stroke-opacity=\"1\"/><rect class=\"bandrect\" stroke-opacity=\"1\" fill=\"#636efa\" fill-opacity=\"1\" width=\"16\" height=\"258.04651162790697\" y=\"0\" cursor=\"ns-resize\" stroke=\"black\" stroke-width=\"0.2\"/><text class=\"catlabel\" pointer-events=\"none\" text-anchor=\"end\" alignment-baseline=\"middle\" x=\"-5\" y=\"129.02325581395348\" style=\"text-shadow: white 1px 1px 1px, white -1px -1px 1px, white 1px -1px 1px, white -1px 1px 1px; fill: rgb(42, 63, 95); font-family: 'Open Sans', verdana, arial, sans-serif; font-size: 10px; fill-opacity: 1; white-space: pre;\">Brown</text><text class=\"dimlabel\" text-anchor=\"middle\" alignment-baseline=\"baseline\" cursor=\"ew-resize\" x=\"8\" y=\"-5\" style=\"font-family: 'Open Sans', verdana, arial, sans-serif; font-size: 12px; fill: rgb(42, 63, 95); fill-opacity: 1;\"/></g><g class=\"category\" transform=\"translate(0,295.25581395348837)\"><rect class=\"catrect\" pointer-events=\"none\" fill=\"none\" width=\"16\" height=\"24.74418604651163\" stroke=\"black\" stroke-width=\"1\" stroke-opacity=\"1\"/><rect class=\"bandrect\" stroke-opacity=\"1\" fill=\"#636efa\" fill-opacity=\"1\" width=\"16\" height=\"24.74418604651163\" y=\"0\" cursor=\"ns-resize\" stroke=\"black\" stroke-width=\"0.2\"/><text class=\"catlabel\" pointer-events=\"none\" text-anchor=\"end\" alignment-baseline=\"middle\" x=\"-5\" y=\"12.372093023255815\" style=\"text-shadow: white 1px 1px 1px, white -1px -1px 1px, white 1px -1px 1px, white -1px 1px 1px; fill: rgb(42, 63, 95); font-family: 'Open Sans', verdana, arial, sans-serif; font-size: 10px; fill-opacity: 1; white-space: pre;\">Red</text><text class=\"dimlabel\" text-anchor=\"middle\" alignment-baseline=\"baseline\" cursor=\"ew-resize\" x=\"8\" y=\"-5\" style=\"font-family: 'Open Sans', verdana, arial, sans-serif; font-size: 12px; fill: rgb(42, 63, 95); fill-opacity: 1;\"/></g></g><g class=\"dimension\" transform=\"translate(262,0)\"><g class=\"category\" transform=\"translate(0,4)\"><rect class=\"catrect\" pointer-events=\"none\" fill=\"none\" width=\"16\" height=\"197.95348837209303\" stroke=\"black\" stroke-width=\"1\" stroke-opacity=\"1\"/><rect class=\"bandrect\" stroke-opacity=\"1\" fill=\"#636efa\" fill-opacity=\"1\" width=\"16\" height=\"197.95348837209303\" y=\"0\" cursor=\"ns-resize\" stroke=\"black\" stroke-width=\"0.2\"/><text class=\"catlabel\" pointer-events=\"none\" text-anchor=\"end\" alignment-baseline=\"middle\" x=\"-5\" y=\"98.97674418604652\" style=\"text-shadow: white 1px 1px 1px, white -1px -1px 1px, white 1px -1px 1px, white -1px 1px 1px; fill: rgb(42, 63, 95); font-family: 'Open Sans', verdana, arial, sans-serif; font-size: 10px; fill-opacity: 1; white-space: pre;\">Brown</text><text class=\"dimlabel\" text-anchor=\"middle\" alignment-baseline=\"baseline\" cursor=\"ew-resize\" x=\"8\" y=\"-5\" style=\"font-family: 'Open Sans', verdana, arial, sans-serif; font-size: 12px; fill: rgb(42, 63, 95); fill-opacity: 1;\">Eye</text></g><g class=\"category\" transform=\"translate(0,209.95348837209303)\"><rect class=\"catrect\" pointer-events=\"none\" fill=\"none\" width=\"16\" height=\"106.04651162790698\" stroke=\"black\" stroke-width=\"1\" stroke-opacity=\"1\"/><rect class=\"bandrect\" stroke-opacity=\"1\" fill=\"#636efa\" fill-opacity=\"1\" width=\"16\" height=\"106.04651162790697\" y=\"0\" cursor=\"ns-resize\" stroke=\"black\" stroke-width=\"0.2\"/><text class=\"catlabel\" pointer-events=\"none\" text-anchor=\"end\" alignment-baseline=\"middle\" x=\"-5\" y=\"53.02325581395349\" style=\"text-shadow: white 1px 1px 1px, white -1px -1px 1px, white 1px -1px 1px, white -1px 1px 1px; fill: rgb(42, 63, 95); font-family: 'Open Sans', verdana, arial, sans-serif; font-size: 10px; fill-opacity: 1; white-space: pre;\">Blue</text><text class=\"dimlabel\" text-anchor=\"middle\" alignment-baseline=\"baseline\" cursor=\"ew-resize\" x=\"8\" y=\"-5\" style=\"font-family: 'Open Sans', verdana, arial, sans-serif; font-size: 12px; fill: rgb(42, 63, 95); fill-opacity: 1;\"/></g></g><g class=\"dimension\" transform=\"translate(484,0)\"><g class=\"category\" transform=\"translate(0,4)\"><rect class=\"catrect\" pointer-events=\"none\" fill=\"none\" width=\"16\" height=\"162.60465116279067\" stroke=\"black\" stroke-width=\"1\" stroke-opacity=\"1\"/><rect class=\"bandrect\" stroke-opacity=\"1\" fill=\"#636efa\" fill-opacity=\"1\" width=\"16\" height=\"162.6046511627907\" y=\"0\" cursor=\"ns-resize\" stroke=\"black\" stroke-width=\"0.2\"/><text class=\"catlabel\" pointer-events=\"none\" text-anchor=\"start\" alignment-baseline=\"middle\" x=\"21\" y=\"81.30232558139534\" style=\"text-shadow: white 1px 1px 1px, white -1px -1px 1px, white 1px -1px 1px, white -1px 1px 1px; fill: rgb(42, 63, 95); font-family: 'Open Sans', verdana, arial, sans-serif; font-size: 10px; fill-opacity: 1; white-space: pre;\">Female</text><text class=\"dimlabel\" text-anchor=\"middle\" alignment-baseline=\"baseline\" cursor=\"ew-resize\" x=\"8\" y=\"-5\" style=\"font-family: 'Open Sans', verdana, arial, sans-serif; font-size: 12px; fill: rgb(42, 63, 95); fill-opacity: 1;\">Sex</text></g><g class=\"category\" transform=\"translate(0,174.60465116279067)\"><rect class=\"catrect\" pointer-events=\"none\" fill=\"none\" width=\"16\" height=\"141.3953488372093\" stroke=\"black\" stroke-width=\"1\" stroke-opacity=\"1\"/><rect class=\"bandrect\" stroke-opacity=\"1\" fill=\"#636efa\" fill-opacity=\"1\" width=\"16\" height=\"141.3953488372093\" y=\"0\" cursor=\"ns-resize\" stroke=\"black\" stroke-width=\"0.2\"/><text class=\"catlabel\" pointer-events=\"none\" text-anchor=\"start\" alignment-baseline=\"middle\" x=\"21\" y=\"70.69767441860465\" style=\"text-shadow: white 1px 1px 1px, white -1px -1px 1px, white 1px -1px 1px, white -1px 1px 1px; fill: rgb(42, 63, 95); font-family: 'Open Sans', verdana, arial, sans-serif; font-size: 10px; fill-opacity: 1; white-space: pre;\">Male</text><text class=\"dimlabel\" text-anchor=\"middle\" alignment-baseline=\"baseline\" cursor=\"ew-resize\" x=\"8\" y=\"-5\" style=\"font-family: 'Open Sans', verdana, arial, sans-serif; font-size: 12px; fill: rgb(42, 63, 95); fill-opacity: 1;\"/></g></g></g></g></g><defs id=\"topdefs-f2c3b0\"><g class=\"clips\"/></defs><g class=\"layer-above\"><g class=\"imagelayer\"/><g class=\"shapelayer\"/></g><g class=\"infolayer\"><g class=\"g-gtitle\"/></g></svg>"
     },
     "metadata": {},
     "output_type": "display_data"
    }
   ],
   "source": [
    "import plotly.graph_objects as go\n",
    "\n",
    "go.Figure(go.Parcats(\n",
    "    dimensions=[\n",
    "        {'label': 'Hair',\n",
    "         'values': ['Black', 'Brown', 'Brown', 'Brown', 'Red']},\n",
    "        {'label': 'Eye',\n",
    "         'values': ['Brown', 'Brown', 'Brown', 'Blue', 'Blue']},\n",
    "        {'label': 'Sex',\n",
    "         'values': ['Female', 'Male', 'Female', 'Male', 'Male']}],\n",
    "    counts=[6, 10, 40, 23, 7]\n",
    "))"
   ]
  },
  {
   "cell_type": "code",
   "execution_count": 4,
   "metadata": {},
   "outputs": [
    {
     "data": {
      "image/svg+xml": "<svg class=\"main-svg\" xmlns=\"http://www.w3.org/2000/svg\" xmlns:xlink=\"http://www.w3.org/1999/xlink\" width=\"700\" height=\"500\" style=\"\" viewBox=\"0 0 700 500\"><rect x=\"0\" y=\"0\" width=\"700\" height=\"500\" style=\"fill: rgb(255, 255, 255); fill-opacity: 1;\"/><defs id=\"defs-8adfe2\"><g class=\"clips\"/><g class=\"gradients\"/><g class=\"patterns\"/></defs><g class=\"bglayer\"/><g class=\"layer-below\"><g class=\"imagelayer\"/><g class=\"shapelayer\"/></g><g class=\"cartesianlayer\"/><g class=\"polarlayer\"/><g class=\"smithlayer\"/><g class=\"ternarylayer\"/><g class=\"geolayer\"/><g class=\"funnelarealayer\"/><g class=\"pielayer\"/><g class=\"iciclelayer\"/><g class=\"treemaplayer\"/><g class=\"sunburstlayer\"/><g class=\"glimages\"/><g class=\"parcatslayer\" style=\"pointer-events: all;\"><g class=\"trace parcats\" transform=\"translate(80,100)\"><g class=\"paths\"><path class=\"path\" stroke-opacity=\"1\" fill=\"rgb(176, 196, 222)\" fill-opacity=\"0.6\" stroke=\"lightgray\" stroke-width=\"0.2\" d=\"M 40,0l16,0 C56,0 262,4 262,4l16,0 C278,4 484,4 484,4l16,0 l0,35.07692307692308 l -16,0 C484,39.07692307692308 278,39.07692307692308 278,39.07692307692308l-16,0 C262,39.07692307692308 56,35.07692307692308 56,35.07692307692308l-16,0 Z\"/><path class=\"path\" stroke-opacity=\"1\" fill=\"rgb(176, 196, 222)\" fill-opacity=\"0.6\" stroke=\"lightgray\" stroke-width=\"0.2\" d=\"M 40,66.46153846153847l16,0 C56,66.46153846153847 262,39.07692307692308 262,39.07692307692308l16,0 C278,39.07692307692308 484,39.07692307692308 484,39.07692307692308l16,0 l0,29.230769230769234 l -16,0 C484,68.30769230769232 278,68.30769230769232 278,68.30769230769232l-16,0 C262,68.30769230769232 56,95.69230769230771 56,95.69230769230771l-16,0 Z\"/><path class=\"path\" stroke-opacity=\"1\" fill=\"rgb(176, 196, 222)\" fill-opacity=\"0.6\" stroke=\"lightgray\" stroke-width=\"0.2\" d=\"M 40,95.69230769230771l16,0 C56,95.69230769230771 262,206.8717948717949 262,206.8717948717949l16,0 C278,206.8717948717949 484,68.30769230769232 484,68.30769230769232l16,0 l0,1.9487179487179487 l -16,0 C484,70.25641025641026 278,208.82051282051285 278,208.82051282051285l-16,0 C262,208.82051282051285 56,97.64102564102565 56,97.64102564102565l-16,0 Z\"/><path class=\"path\" stroke-opacity=\"1\" fill=\"rgb(176, 196, 222)\" fill-opacity=\"0.6\" stroke=\"lightgray\" stroke-width=\"0.2\" d=\"M 40,132.92307692307693l16,0 C56,132.92307692307693 262,68.30769230769232 262,68.30769230769232l16,0 C278,68.30769230769232 484,70.25641025641026 484,70.25641025641026l16,0 l0,103.28205128205128 l -16,0 C484,173.53846153846155 278,171.5897435897436 278,171.5897435897436l-16,0 C262,171.5897435897436 56,236.20512820512823 56,236.20512820512823l-16,0 Z\"/><path class=\"path\" stroke-opacity=\"1\" fill=\"rgb(176, 196, 222)\" fill-opacity=\"0.6\" stroke=\"lightgray\" stroke-width=\"0.2\" d=\"M 40,236.20512820512823l16,0 C56,236.20512820512823 262,208.82051282051285 262,208.82051282051285l16,0 C278,208.82051282051285 484,173.53846153846155 484,173.53846153846155l16,0 l0,29.230769230769234 l -16,0 C484,202.76923076923077 278,238.05128205128207 278,238.05128205128207l-16,0 C262,238.05128205128207 56,265.43589743589746 56,265.43589743589746l-16,0 Z\"/><path class=\"path\" stroke-opacity=\"1\" fill=\"rgb(60, 179, 113)\" fill-opacity=\"0.6\" stroke=\"lightgray\" stroke-width=\"0.2\" d=\"M 40,35.07692307692308l16,0 C56,35.07692307692308 262,171.5897435897436 262,171.5897435897436l16,0 C278,171.5897435897436 484,210.76923076923077 484,210.76923076923077l16,0 l0,5.846153846153847 l -16,0 C484,216.6153846153846 278,177.43589743589743 278,177.43589743589743l-16,0 C262,177.43589743589743 56,40.92307692307693 56,40.92307692307693l-16,0 Z\"/><path class=\"path\" stroke-opacity=\"1\" fill=\"rgb(60, 179, 113)\" fill-opacity=\"0.6\" stroke=\"lightgray\" stroke-width=\"0.2\" d=\"M 40,40.92307692307693l16,0 C56,40.92307692307693 262,238.05128205128207 262,238.05128205128207l16,0 C278,238.05128205128207 484,216.6153846153846 484,216.6153846153846l16,0 l0,17.53846153846154 l -16,0 C484,234.15384615384616 278,255.58974358974362 278,255.58974358974362l-16,0 C262,255.58974358974362 56,58.46153846153847 56,58.46153846153847l-16,0 Z\"/><path class=\"path\" stroke-opacity=\"1\" fill=\"rgb(60, 179, 113)\" fill-opacity=\"0.6\" stroke=\"lightgray\" stroke-width=\"0.2\" d=\"M 40,97.64102564102565l16,0 C56,97.64102564102565 262,177.43589743589743 262,177.43589743589743l16,0 C278,177.43589743589743 484,234.15384615384616 484,234.15384615384616l16,0 l0,5.846153846153847 l -16,0 C484,240 278,183.28205128205127 278,183.28205128205127l-16,0 C262,183.28205128205127 56,103.4871794871795 56,103.4871794871795l-16,0 Z\"/><path class=\"path\" stroke-opacity=\"1\" fill=\"rgb(60, 179, 113)\" fill-opacity=\"0.6\" stroke=\"lightgray\" stroke-width=\"0.2\" d=\"M 40,103.4871794871795l16,0 C56,103.4871794871795 262,255.58974358974362 262,255.58974358974362l16,0 C278,255.58974358974362 484,240 484,240l16,0 l0,21.435897435897434 l -16,0 C484,261.43589743589746 278,277.02564102564105 278,277.02564102564105l-16,0 C262,277.02564102564105 56,124.92307692307693 56,124.92307692307693l-16,0 Z\"/><path class=\"path\" stroke-opacity=\"1\" fill=\"rgb(60, 179, 113)\" fill-opacity=\"0.6\" stroke=\"lightgray\" stroke-width=\"0.2\" d=\"M 40,265.43589743589746l16,0 C56,265.43589743589746 262,183.28205128205127 262,183.28205128205127l16,0 C278,183.28205128205127 484,261.43589743589746 484,261.43589743589746l16,0 l0,15.58974358974359 l -16,0 C484,277.02564102564105 278,198.87179487179486 278,198.87179487179486l-16,0 C262,198.87179487179486 56,281.02564102564105 56,281.02564102564105l-16,0 Z\"/><path class=\"path\" stroke-opacity=\"1\" fill=\"rgb(60, 179, 113)\" fill-opacity=\"0.6\" stroke=\"lightgray\" stroke-width=\"0.2\" d=\"M 40,281.02564102564105l16,0 C56,281.02564102564105 262,277.02564102564105 262,277.02564102564105l16,0 C278,277.02564102564105 484,277.02564102564105 484,277.02564102564105l16,0 l0,38.97435897435897 l -16,0 C484,316 278,316 278,316l-16,0 C262,316 56,320 56,320l-16,0 Z\"/></g><g class=\"dimensions\"><g class=\"dimension\" transform=\"translate(40,0)\"><g class=\"category\" transform=\"\"><rect class=\"catrect\" pointer-events=\"none\" fill=\"none\" width=\"16\" height=\"58.46153846153847\" stroke=\"black\" stroke-width=\"1\" stroke-opacity=\"1\"/><rect class=\"bandrect\" stroke-opacity=\"1\" fill=\"rgb(176, 196, 222)\" fill-opacity=\"1\" width=\"16\" height=\"35.07692307692308\" y=\"0\" cursor=\"move\" stroke=\"black\" stroke-width=\"0.2\"/><rect class=\"bandrect\" stroke-opacity=\"1\" fill=\"rgb(60, 179, 113)\" fill-opacity=\"1\" width=\"16\" height=\"23.384615384615387\" y=\"35.07692307692308\" cursor=\"move\" stroke=\"black\" stroke-width=\"0.2\"/><text class=\"catlabel\" pointer-events=\"none\" text-anchor=\"end\" alignment-baseline=\"middle\" x=\"-5\" y=\"29.230769230769234\" style=\"text-shadow: white 1px 1px 1px, white -1px -1px 1px, white 1px -1px 1px, white -1px 1px 1px; fill: rgb(42, 63, 95); font-family: Times; font-size: 16px; fill-opacity: 1; white-space: pre;\">1</text><text class=\"dimlabel\" text-anchor=\"middle\" alignment-baseline=\"baseline\" cursor=\"ew-resize\" x=\"8\" y=\"-5\" style=\"font-family: Times; font-size: 18px; fill: rgb(42, 63, 95); fill-opacity: 1;\">Class</text></g><g class=\"category\" transform=\"translate(0,66.46153846153847)\"><rect class=\"catrect\" pointer-events=\"none\" fill=\"none\" width=\"16\" height=\"58.46153846153847\" stroke=\"black\" stroke-width=\"1\" stroke-opacity=\"1\"/><rect class=\"bandrect\" stroke-opacity=\"1\" fill=\"rgb(176, 196, 222)\" fill-opacity=\"1\" width=\"16\" height=\"31.179487179487182\" y=\"0\" cursor=\"move\" stroke=\"black\" stroke-width=\"0.2\"/><rect class=\"bandrect\" stroke-opacity=\"1\" fill=\"rgb(60, 179, 113)\" fill-opacity=\"1\" width=\"16\" height=\"27.28205128205128\" y=\"31.179487179487182\" cursor=\"move\" stroke=\"black\" stroke-width=\"0.2\"/><text class=\"catlabel\" pointer-events=\"none\" text-anchor=\"end\" alignment-baseline=\"middle\" x=\"-5\" y=\"29.230769230769234\" style=\"text-shadow: white 1px 1px 1px, white -1px -1px 1px, white 1px -1px 1px, white -1px 1px 1px; fill: rgb(42, 63, 95); font-family: Times; font-size: 16px; fill-opacity: 1; white-space: pre;\">2</text><text class=\"dimlabel\" text-anchor=\"middle\" alignment-baseline=\"baseline\" cursor=\"ew-resize\" x=\"8\" y=\"-5\" style=\"font-family: Times; font-size: 18px; fill: rgb(42, 63, 95); fill-opacity: 1;\"/></g><g class=\"category\" transform=\"translate(0,132.92307692307693)\"><rect class=\"catrect\" pointer-events=\"none\" fill=\"none\" width=\"16\" height=\"187.0769230769231\" stroke=\"black\" stroke-width=\"1\" stroke-opacity=\"1\"/><rect class=\"bandrect\" stroke-opacity=\"1\" fill=\"rgb(176, 196, 222)\" fill-opacity=\"1\" width=\"16\" height=\"132.51282051282053\" y=\"0\" cursor=\"move\" stroke=\"black\" stroke-width=\"0.2\"/><rect class=\"bandrect\" stroke-opacity=\"1\" fill=\"rgb(60, 179, 113)\" fill-opacity=\"1\" width=\"16\" height=\"54.56410256410256\" y=\"132.51282051282053\" cursor=\"move\" stroke=\"black\" stroke-width=\"0.2\"/><text class=\"catlabel\" pointer-events=\"none\" text-anchor=\"end\" alignment-baseline=\"middle\" x=\"-5\" y=\"93.53846153846155\" style=\"text-shadow: white 1px 1px 1px, white -1px -1px 1px, white 1px -1px 1px, white -1px 1px 1px; fill: rgb(42, 63, 95); font-family: Times; font-size: 16px; fill-opacity: 1; white-space: pre;\">3</text><text class=\"dimlabel\" text-anchor=\"middle\" alignment-baseline=\"baseline\" cursor=\"ew-resize\" x=\"8\" y=\"-5\" style=\"font-family: Times; font-size: 18px; fill: rgb(42, 63, 95); fill-opacity: 1;\"/></g></g><g class=\"dimension\" transform=\"translate(262,0)\"><g class=\"category\" transform=\"translate(0,4)\"><rect class=\"catrect\" pointer-events=\"none\" fill=\"none\" width=\"16\" height=\"194.8717948717949\" stroke=\"black\" stroke-width=\"1\" stroke-opacity=\"1\"/><rect class=\"bandrect\" stroke-opacity=\"1\" fill=\"rgb(176, 196, 222)\" fill-opacity=\"1\" width=\"16\" height=\"167.5897435897436\" y=\"0\" cursor=\"move\" stroke=\"black\" stroke-width=\"0.2\"/><rect class=\"bandrect\" stroke-opacity=\"1\" fill=\"rgb(60, 179, 113)\" fill-opacity=\"1\" width=\"16\" height=\"27.282051282051285\" y=\"167.5897435897436\" cursor=\"move\" stroke=\"black\" stroke-width=\"0.2\"/><text class=\"catlabel\" pointer-events=\"none\" text-anchor=\"end\" alignment-baseline=\"middle\" x=\"-5\" y=\"97.43589743589745\" style=\"text-shadow: white 1px 1px 1px, white -1px -1px 1px, white 1px -1px 1px, white -1px 1px 1px; fill: rgb(42, 63, 95); font-family: Times; font-size: 16px; fill-opacity: 1; white-space: pre;\">male</text><text class=\"dimlabel\" text-anchor=\"middle\" alignment-baseline=\"baseline\" cursor=\"ew-resize\" x=\"8\" y=\"-5\" style=\"font-family: Times; font-size: 18px; fill: rgb(42, 63, 95); fill-opacity: 1;\">Gender</text></g><g class=\"category\" transform=\"translate(0,206.8717948717949)\"><rect class=\"catrect\" pointer-events=\"none\" fill=\"none\" width=\"16\" height=\"109.12820512820512\" stroke=\"black\" stroke-width=\"1\" stroke-opacity=\"1\"/><rect class=\"bandrect\" stroke-opacity=\"1\" fill=\"rgb(176, 196, 222)\" fill-opacity=\"1\" width=\"16\" height=\"31.179487179487182\" y=\"0\" cursor=\"move\" stroke=\"black\" stroke-width=\"0.2\"/><rect class=\"bandrect\" stroke-opacity=\"1\" fill=\"rgb(60, 179, 113)\" fill-opacity=\"1\" width=\"16\" height=\"77.94871794871796\" y=\"31.179487179487182\" cursor=\"move\" stroke=\"black\" stroke-width=\"0.2\"/><text class=\"catlabel\" pointer-events=\"none\" text-anchor=\"end\" alignment-baseline=\"middle\" x=\"-5\" y=\"54.56410256410256\" style=\"text-shadow: white 1px 1px 1px, white -1px -1px 1px, white 1px -1px 1px, white -1px 1px 1px; fill: rgb(42, 63, 95); font-family: Times; font-size: 16px; fill-opacity: 1; white-space: pre;\">female</text><text class=\"dimlabel\" text-anchor=\"middle\" alignment-baseline=\"baseline\" cursor=\"ew-resize\" x=\"8\" y=\"-5\" style=\"font-family: Times; font-size: 18px; fill: rgb(42, 63, 95); fill-opacity: 1;\"/></g></g><g class=\"dimension\" transform=\"translate(484,0)\"><g class=\"category\" transform=\"translate(0,4)\"><rect class=\"catrect\" pointer-events=\"none\" fill=\"none\" width=\"16\" height=\"198.76923076923077\" stroke=\"black\" stroke-width=\"1\" stroke-opacity=\"1\"/><rect class=\"bandrect\" stroke-opacity=\"1\" fill=\"rgb(176, 196, 222)\" fill-opacity=\"1\" width=\"16\" height=\"198.76923076923077\" y=\"0\" cursor=\"move\" stroke=\"black\" stroke-width=\"0.2\"/><text class=\"catlabel\" pointer-events=\"none\" text-anchor=\"start\" alignment-baseline=\"middle\" x=\"21\" y=\"99.38461538461539\" style=\"text-shadow: white 1px 1px 1px, white -1px -1px 1px, white 1px -1px 1px, white -1px 1px 1px; fill: rgb(42, 63, 95); font-family: Times; font-size: 16px; fill-opacity: 1; white-space: pre;\">perished</text><text class=\"dimlabel\" text-anchor=\"middle\" alignment-baseline=\"baseline\" cursor=\"ew-resize\" x=\"8\" y=\"-5\" style=\"font-family: Times; font-size: 18px; fill: rgb(42, 63, 95); fill-opacity: 1;\">Outcome</text></g><g class=\"category\" transform=\"translate(0,210.76923076923077)\"><rect class=\"catrect\" pointer-events=\"none\" fill=\"none\" width=\"16\" height=\"105.23076923076923\" stroke=\"black\" stroke-width=\"1\" stroke-opacity=\"1\"/><rect class=\"bandrect\" stroke-opacity=\"1\" fill=\"rgb(60, 179, 113)\" fill-opacity=\"1\" width=\"16\" height=\"105.23076923076923\" y=\"0\" cursor=\"move\" stroke=\"black\" stroke-width=\"0.2\"/><text class=\"catlabel\" pointer-events=\"none\" text-anchor=\"start\" alignment-baseline=\"middle\" x=\"21\" y=\"52.61538461538461\" style=\"text-shadow: white 1px 1px 1px, white -1px -1px 1px, white 1px -1px 1px, white -1px 1px 1px; fill: rgb(42, 63, 95); font-family: Times; font-size: 16px; fill-opacity: 1; white-space: pre;\">survived</text><text class=\"dimlabel\" text-anchor=\"middle\" alignment-baseline=\"baseline\" cursor=\"ew-resize\" x=\"8\" y=\"-5\" style=\"font-family: Times; font-size: 18px; fill: rgb(42, 63, 95); fill-opacity: 1;\"/></g></g></g></g></g><defs id=\"topdefs-8adfe2\"><g class=\"clips\"/></defs><g class=\"layer-above\"><g class=\"imagelayer\"/><g class=\"shapelayer\"/></g><g class=\"infolayer\"><g class=\"g-gtitle\"/></g></svg>"
     },
     "metadata": {},
     "output_type": "display_data"
    }
   ],
   "source": [
    "import plotly.graph_objects as go\n",
    "import pandas as pd\n",
    "\n",
    "titanic_df = pd.read_csv(\"https://raw.githubusercontent.com/plotly/datasets/master/titanic.csv\")\n",
    "\n",
    "# Create dimensions\n",
    "class_dim = go.parcats.Dimension(\n",
    "    values        = titanic_df.Pclass,\n",
    "    categoryorder = 'category ascending', \n",
    "    label         = \"Class\"\n",
    ")\n",
    "\n",
    "gender_dim = go.parcats.Dimension(\n",
    "    values= titanic_df.Sex, \n",
    "    label = \"Gender\"\n",
    ")\n",
    "\n",
    "survival_dim = go.parcats.Dimension(\n",
    "    values       = titanic_df.Survived, \n",
    "    label        = \"Outcome\", \n",
    "    categoryarray= [0, 1],\n",
    "    ticktext     = ['perished', 'survived']\n",
    ")\n",
    "\n",
    "# Create parcats trace\n",
    "color      = titanic_df.Survived\n",
    "colorscale = [[0, 'lightsteelblue'], [1, 'mediumseagreen']];\n",
    "\n",
    "go.Figure(data = [go.Parcats(\n",
    "    dimensions  = [class_dim, gender_dim, survival_dim],\n",
    "    line        = {'color': color, 'colorscale': colorscale},\n",
    "    hoveron     = 'color',\n",
    "    hoverinfo   = 'count+probability',\n",
    "    labelfont   = {'size': 18, 'family': 'Times'},\n",
    "    tickfont    = {'size': 16, 'family': 'Times'},\n",
    "    arrangement = 'freeform'\n",
    ")])"
   ]
  },
  {
   "cell_type": "markdown",
   "metadata": {},
   "source": [
    "## Linked Brushing - Filter Using Scatter Plot"
   ]
  },
  {
   "cell_type": "code",
   "execution_count": 5,
   "metadata": {},
   "outputs": [
    {
     "data": {
      "application/vnd.jupyter.widget-view+json": {
       "model_id": "105d38fb8c3b41eb8bfbc36f9aa00e8f",
       "version_major": 2,
       "version_minor": 0
      },
      "text/plain": [
       "FigureWidget({\n",
       "    'data': [{'marker': {'color': 'gray'},\n",
       "              'mode': 'markers',\n",
       "              'sele…"
      ]
     },
     "metadata": {},
     "output_type": "display_data"
    }
   ],
   "source": [
    "import plotly.graph_objects as go\n",
    "from ipywidgets import widgets\n",
    "import pandas as pd\n",
    "import numpy as np\n",
    "\n",
    "cars_df = pd.read_csv('https://raw.githubusercontent.com/plotly/datasets/master/imports-85.csv')\n",
    "\n",
    "# Build parcats dimensions\n",
    "categorical_dimensions = ['body-style', 'drive-wheels', 'fuel-type'];\n",
    "\n",
    "dimensions = [dict(values=cars_df[label], label=label) for label in categorical_dimensions]\n",
    "\n",
    "# Build colorscale\n",
    "color = np.zeros(len(cars_df), dtype='uint8')\n",
    "colorscale = [[0, 'gray'], [1, 'firebrick']]\n",
    "\n",
    "# Build figure as FigureWidget\n",
    "fig = go.FigureWidget(\n",
    "    data=[go.Scatter(x=cars_df.horsepower, y=cars_df['highway-mpg'],\n",
    "    marker={'color': 'gray'}, mode='markers', selected={'marker': {'color': 'firebrick'}},\n",
    "    unselected={'marker': {'opacity': 0.3}}), go.Parcats(\n",
    "        domain={'y': [0, 0.4]}, dimensions=dimensions,\n",
    "        line={'colorscale': colorscale, 'cmin': 0,\n",
    "              'cmax': 1, 'color': color, 'shape': 'hspline'})\n",
    "    ])\n",
    "\n",
    "fig.update_layout(\n",
    "        height=800, xaxis={'title': 'Horsepower'},\n",
    "        yaxis={'title': 'MPG', 'domain': [0.6, 1]},\n",
    "        dragmode='lasso', hovermode='closest')\n",
    "\n",
    "# Update color callback\n",
    "def update_color(trace, points, state):\n",
    "    # Update scatter selection\n",
    "    fig.data[0].selectedpoints = points.point_inds\n",
    "\n",
    "    # Update parcats colors\n",
    "    new_color = np.zeros(len(cars_df), dtype='uint8')\n",
    "    new_color[points.point_inds] = 1\n",
    "    fig.data[1].line.color = new_color\n",
    "\n",
    "# Register callback on scatter selection...\n",
    "fig.data[0].on_selection(update_color)\n",
    "# and parcats click\n",
    "fig.data[1].on_click(update_color)\n",
    "\n",
    "fig"
   ]
  },
  {
   "cell_type": "code",
   "execution_count": 6,
   "metadata": {},
   "outputs": [
    {
     "data": {
      "application/vnd.jupyter.widget-view+json": {
       "model_id": "44f451b8deb64a3492c3c3f887def8f2",
       "version_major": 2,
       "version_minor": 0
      },
      "text/plain": [
       "VBox(children=(ToggleButtons(description='Brush Color:', index=1, options=('None', 'Red', 'Blue'), value='Red'…"
      ]
     },
     "metadata": {},
     "output_type": "display_data"
    }
   ],
   "source": [
    "import plotly.graph_objects as go\n",
    "import ipywidgets as widgets\n",
    "import pandas as pd\n",
    "import numpy as np\n",
    "\n",
    "cars_df = pd.read_csv('https://raw.githubusercontent.com/plotly/datasets/master/imports-85.csv')\n",
    "\n",
    "# Build parcats dimensions\n",
    "categorical_dimensions = ['body-style', 'drive-wheels', 'fuel-type']\n",
    "\n",
    "dimensions = [dict(values=cars_df[label], label=label) for label in categorical_dimensions]\n",
    "\n",
    "# Build colorscale\n",
    "color = np.zeros(len(cars_df), dtype='uint8')\n",
    "colorscale = [[0, 'gray'], [0.33, 'gray'],\n",
    "              [0.33, 'firebrick'], [0.66, 'firebrick'],\n",
    "              [0.66, 'blue'], [1.0, 'blue']]\n",
    "cmin = -0.5\n",
    "cmax = 2.5\n",
    "\n",
    "# Build figure as FigureWidget\n",
    "fig = go.FigureWidget(\n",
    "    data=[go.Scatter(x=cars_df.horsepower, y=cars_df['highway-mpg'],\n",
    "                marker={'color': color, 'cmin': cmin, 'cmax': cmax,\n",
    "                        'colorscale': colorscale, 'showscale': True,\n",
    "                        'colorbar': {'tickvals': [0, 1, 2], 'ticktext': ['None', 'Red', 'Blue']}},\n",
    "                     mode='markers'),\n",
    "\n",
    "      go.Parcats(domain={'y': [0, 0.4]}, dimensions=dimensions,\n",
    "                   line={'colorscale': colorscale, 'cmin': cmin,\n",
    "                   'cmax': cmax, 'color': color, 'shape': 'hspline'})]\n",
    ")\n",
    "\n",
    "fig.update_layout(height=800, xaxis={'title': 'Horsepower'},\n",
    "                  yaxis={'title': 'MPG', 'domain': [0.6, 1]},\n",
    "                  dragmode='lasso', hovermode='closest')\n",
    "\n",
    "# Build color selection widget\n",
    "color_toggle = widgets.ToggleButtons(\n",
    "    options=['None', 'Red', 'Blue'],\n",
    "    index=1, description='Brush Color:', disabled=False)\n",
    "\n",
    "# Update color callback\n",
    "def update_color(trace, points, state):\n",
    "    # Compute new color array\n",
    "    new_color = np.array(fig.data[0].marker.color)\n",
    "    new_color[points.point_inds] = color_toggle.index\n",
    "\n",
    "    with fig.batch_update():\n",
    "        # Update scatter color\n",
    "        fig.data[0].marker.color = new_color\n",
    "\n",
    "        # Update parcats colors\n",
    "        fig.data[1].line.color = new_color\n",
    "\n",
    "# Register callback on scatter selection...\n",
    "fig.data[0].on_selection(update_color)\n",
    "# and parcats click\n",
    "fig.data[1].on_click(update_color)\n",
    "\n",
    "# Display figure\n",
    "widgets.VBox([color_toggle, fig])"
   ]
  }
 ],
 "metadata": {
  "interpreter": {
   "hash": "1c7a1fc1951ad22665a15a84deb16fa487127b7a91776cb5966345205c08dc00"
  },
  "kernelspec": {
   "display_name": "Python 3.10.0 64-bit",
   "language": "python",
   "name": "python3"
  },
  "language_info": {
   "codemirror_mode": {
    "name": "ipython",
    "version": 3
   },
   "file_extension": ".py",
   "mimetype": "text/x-python",
   "name": "python",
   "nbconvert_exporter": "python",
   "pygments_lexer": "ipython3",
   "version": "3.10.0"
  },
  "orig_nbformat": 4
 },
 "nbformat": 4,
 "nbformat_minor": 2
}
